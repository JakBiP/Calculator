{
  "nbformat": 4,
  "nbformat_minor": 0,
  "metadata": {
    "colab": {
      "provenance": [],
      "gpuType": "T4",
      "authorship_tag": "ABX9TyO6HMTxWXlWofQ3movgFvay",
      "include_colab_link": true
    },
    "kernelspec": {
      "name": "python3",
      "display_name": "Python 3"
    },
    "language_info": {
      "name": "python"
    },
    "accelerator": "GPU"
  },
  "cells": [
    {
      "cell_type": "markdown",
      "metadata": {
        "id": "view-in-github",
        "colab_type": "text"
      },
      "source": [
        "<a href=\"https://colab.research.google.com/github/JakBiP/Calculator/blob/master/DL1_Linkdn_TS_20250716.ipynb\" target=\"_parent\"><img src=\"https://colab.research.google.com/assets/colab-badge.svg\" alt=\"Open In Colab\"/></a>"
      ]
    },
    {
      "cell_type": "code",
      "execution_count": 6,
      "metadata": {
        "id": "Xg86OHl0mf5s"
      },
      "outputs": [],
      "source": [
        "import torch\n",
        "#print(torch.__version__)\n",
        "#print(torch.cuda.is_available())\n"
      ]
    },
    {
      "cell_type": "code",
      "source": [
        "first_tensor = torch.tensor([[12,10,11,9],[13,15,14,16]])\n",
        "second_tensor = torch.tensor([[1,2,3,4],[5,6,7,8]])\n",
        "add_tensor = first_tensor + second_tensor\n",
        "print(add_tensor)\n",
        "print(add_tensor.size())\n",
        "sub_tensor = first_tensor - second_tensor\n",
        "print(sub_tensor)\n",
        "print(sub_tensor.size())"
      ],
      "metadata": {
        "colab": {
          "base_uri": "https://localhost:8080/"
        },
        "id": "xvja23I74Kqt",
        "outputId": "6cd834e4-6ac9-419d-d78a-727e22885adf"
      },
      "execution_count": 7,
      "outputs": [
        {
          "output_type": "stream",
          "name": "stdout",
          "text": [
            "tensor([[13, 12, 14, 13],\n",
            "        [18, 21, 21, 24]])\n",
            "torch.Size([2, 4])\n",
            "tensor([[11,  8,  8,  5],\n",
            "        [ 8,  9,  7,  8]])\n",
            "torch.Size([2, 4])\n"
          ]
        }
      ]
    }
  ]
}